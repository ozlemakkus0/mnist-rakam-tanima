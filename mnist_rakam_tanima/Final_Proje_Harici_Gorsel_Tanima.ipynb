{
 "cells": [
  {
   "cell_type": "markdown",
   "id": "00fea7b8",
   "metadata": {},
   "source": [
    "# 🎓 Final Proje: Harici Görselle Rakam Tanıma\n",
    "Bu projede:\n",
    "- MNIST veri seti ile bir model eğiteceksiniz\n",
    "- Eğitilen modeli .h5 formatında kaydedeceksiniz\n",
    "- Kendi çizdiğiniz veya dışarıdan yüklediğiniz bir görseli tanıtacaksınız"
   ]
  },
  {
   "cell_type": "code",
   "execution_count": null,
   "id": "e7aa66c7",
   "metadata": {},
   "outputs": [],
   "source": [
    "import numpy as np\n",
    "import matplotlib.pyplot as plt\n",
    "from tensorflow.keras.models import Sequential, load_model\n",
    "from tensorflow.keras.layers import Dense\n",
    "from tensorflow.keras.datasets import mnist\n",
    "from tensorflow.keras.utils import to_categorical\n",
    "from PIL import Image\n"
   ]
  },
  {
   "cell_type": "markdown",
   "id": "a05080ed",
   "metadata": {},
   "source": [
    "## 1️⃣ MNIST Verisini Yükle ve Hazırla"
   ]
  },
  {
   "cell_type": "code",
   "execution_count": null,
   "id": "99a7ee34",
   "metadata": {},
   "outputs": [],
   "source": [
    "(x_train, y_train), (x_test, y_test) = mnist.load_data()\n",
    "x_train = x_train.reshape(-1, 784) / 255.0\n",
    "x_test = x_test.reshape(-1, 784) / 255.0\n",
    "y_train = to_categorical(y_train, 10)\n",
    "y_test = to_categorical(y_test, 10)\n"
   ]
  },
  {
   "cell_type": "markdown",
   "id": "5abe1b02",
   "metadata": {},
   "source": [
    "## 2️⃣ Modeli Eğit ve Kaydet"
   ]
  },
  {
   "cell_type": "code",
   "execution_count": null,
   "id": "fa689b9b",
   "metadata": {},
   "outputs": [],
   "source": [
    "model = Sequential()\n",
    "model.add(Dense(128, activation='relu', input_shape=(784,)))\n",
    "model.add(Dense(10, activation='softmax'))\n",
    "\n",
    "model.compile(optimizer='adam', loss='categorical_crossentropy', metrics=['accuracy'])\n",
    "model.fit(x_train, y_train, epochs=5, validation_data=(x_test, y_test))\n",
    "\n",
    "# Modeli kaydet\n",
    "model.save(\"mnist_model.h5\")\n",
    "print(\"Model kaydedildi.\")\n"
   ]
  },
  {
   "cell_type": "markdown",
   "id": "af31f5da",
   "metadata": {},
   "source": [
    "## 3️⃣ Harici Görsel Yükle"
   ]
  },
  {
   "cell_type": "code",
   "execution_count": null,
   "id": "c164a258",
   "metadata": {},
   "outputs": [],
   "source": [
    "from google.colab import files\n",
    "uploaded = files.upload()\n"
   ]
  },
  {
   "cell_type": "markdown",
   "id": "27d3fcda",
   "metadata": {},
   "source": [
    "## 4️⃣ Görseli 28x28 Gri Tonlamaya Çevir ve Normalize Et"
   ]
  },
  {
   "cell_type": "code",
   "execution_count": null,
   "id": "7e88b17e",
   "metadata": {},
   "outputs": [],
   "source": [
    "# Dosya adını al (ilk yüklenen dosya)\n",
    "file_name = list(uploaded.keys())[0]\n",
    "\n",
    "# Görseli aç\n",
    "img = Image.open(file_name).convert('L')  # Gri tonlama\n",
    "img = img.resize((28, 28))                # 28x28 boyutuna getir\n",
    "img_array = np.array(img)\n",
    "\n",
    "# Renkleri tersle (arka plan siyah, yazı beyaz olacak şekilde)\n",
    "img_array = 255 - img_array\n",
    "img_array = img_array / 255.0             # Normalize et\n",
    "img_input = img_array.reshape(1, 784)     # Modele uygun hale getir\n",
    "\n",
    "plt.imshow(img_array, cmap='gray')\n",
    "plt.title(\"Yüklenen Görsel (28x28)\")\n",
    "plt.axis('off')\n",
    "plt.show()\n"
   ]
  },
  {
   "cell_type": "markdown",
   "id": "ab86e4de",
   "metadata": {},
   "source": [
    "## 5️⃣ Tahmin Et ve Sonucu Göster"
   ]
  },
  {
   "cell_type": "code",
   "execution_count": null,
   "id": "8e17552f",
   "metadata": {},
   "outputs": [],
   "source": [
    "# Eğitilen modeli yükle\n",
    "model = load_model(\"mnist_model.h5\")\n",
    "\n",
    "# Tahmin yap\n",
    "tahmin = model.predict(img_input)\n",
    "print(\"Tahmin edilen rakam:\", np.argmax(tahmin))\n"
   ]
  }
 ],
 "metadata": {},
 "nbformat": 4,
 "nbformat_minor": 5
}
